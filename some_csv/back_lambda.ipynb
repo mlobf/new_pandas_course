{
 "cells": [
  {
   "cell_type": "code",
   "execution_count": 40,
   "metadata": {},
   "outputs": [
    {
     "data": {
      "text/plain": [
       "Index(['CLUSTER_FLD', 'TIPO_ENVIO', 'DATA_ENVIO', 'DIA_SEMANA', 'UTM_CAMPAIGN',\n",
       "       'SUBJECT', 'PRE_HEADER', 'UTM_SOURCE', 'UTM_MEDIUM', 'UTM_TERM',\n",
       "       'UTM_CONTENT', 'TEMPLATE', 'CICLO_VIDA', 'ENGAJAMENTO_ABERTURA',\n",
       "       'ENGAJAMENTO_CLIQUES', 'PRIMEIRA_VITRINE', 'SEGUNDA_VITRINE',\n",
       "       'TERCEIRA_VITRINE', 'CHAMADA_VITRINE_1', 'CHAMADA_VITRINE_2',\n",
       "       'TIPO_BANNER', 'NOME_BANNER', 'TEXTO_CHAMADA', 'TITULO', 'TEXTO_APOIO',\n",
       "       'ATRIBUTOS', 'TITULO_LINHA', 'CTA', 'URL', 'FILTRO', 'LINK_ORIGEM',\n",
       "       'TEXTO_LEGAL', 'COMENTARIOS', 'LOGO_LINK'],\n",
       "      dtype='object')"
      ]
     },
     "execution_count": 40,
     "metadata": {},
     "output_type": "execute_result"
    }
   ],
   "source": [
    "import pandas as pd\n",
    "import numpy as np\n",
    "\n",
    "\n",
    "#csv = 'nat_br_input_hub_CPC7_20210924 .csv'\n",
    "csv = \"input_hub_spark.csv\"\n",
    "\n",
    "\n",
    "df = pd.read_csv(csv, encoding=\"ISO-8859-1\", sep=\";\")\n",
    "\n",
    "df.columns\n",
    "\n",
    "\n",
    "df.iloc()\n",
    "\n",
    "# df['ENGAJAMENTO_']\n",
    "\n",
    "#df['ENGAJAMENTO_CLIQUES'] = 90\n",
    "# df['UTM_CAMPAIGN']\n",
    "\n",
    "# df['ENGAJAMENTO_CLIQUES']\n",
    "\n",
    "df.columns\n",
    "# df.loc['UTM_CAMPAIGN']\n"
   ]
  },
  {
   "cell_type": "code",
   "execution_count": 41,
   "metadata": {},
   "outputs": [],
   "source": [
    "\n",
    "# df['ENGAJAMENTO_ABERTURA']\n"
   ]
  },
  {
   "cell_type": "code",
   "execution_count": null,
   "metadata": {},
   "outputs": [],
   "source": []
  }
 ],
 "metadata": {
  "interpreter": {
   "hash": "a59c8bb6a444b5b41ed727aaf9a3cea8a86ec5b00398dffd071d2a31e32b461f"
  },
  "kernelspec": {
   "display_name": "Python 3.7.12 64-bit ('myvenv': venv)",
   "name": "python3"
  },
  "language_info": {
   "codemirror_mode": {
    "name": "ipython",
    "version": 3
   },
   "file_extension": ".py",
   "mimetype": "text/x-python",
   "name": "python",
   "nbconvert_exporter": "python",
   "pygments_lexer": "ipython3",
   "version": "3.7.12"
  },
  "orig_nbformat": 4
 },
 "nbformat": 4,
 "nbformat_minor": 2
}
