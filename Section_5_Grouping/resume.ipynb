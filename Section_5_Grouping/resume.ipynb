{
 "cells": [
  {
   "cell_type": "code",
   "execution_count": 3,
   "source": [
    "import pandas as pd \n",
    "import numpy as np"
   ],
   "outputs": [],
   "metadata": {}
  },
  {
   "cell_type": "code",
   "execution_count": 4,
   "source": [
    "# Resume of this chapter.\n",
    "\n",
    "# Masks - Use to build boolean Masks and apply the to fill then down\n",
    "# .loc - Used to select a column/columns after.\n",
    "\n",
    "# To treate a DataFrame\n",
    "#   Filn,\n",
    "#   dropna\n",
    "# replace"
   ],
   "outputs": [
    {
     "output_type": "stream",
     "name": "stdout",
     "text": [
      " o io i o  i io i\n"
     ]
    }
   ],
   "metadata": {}
  },
  {
   "cell_type": "code",
   "execution_count": null,
   "source": [],
   "outputs": [],
   "metadata": {}
  }
 ],
 "metadata": {
  "orig_nbformat": 4,
  "language_info": {
   "name": "python",
   "version": "3.9.7",
   "mimetype": "text/x-python",
   "codemirror_mode": {
    "name": "ipython",
    "version": 3
   },
   "pygments_lexer": "ipython3",
   "nbconvert_exporter": "python",
   "file_extension": ".py"
  },
  "kernelspec": {
   "name": "python3",
   "display_name": "Python 3.9.7 64-bit ('myvenv': venv)"
  },
  "interpreter": {
   "hash": "359f24ba82ccddb98d0800f1a9f025f4e77c7b42e31a846f2199f2f452ba4ed9"
  }
 },
 "nbformat": 4,
 "nbformat_minor": 2
}