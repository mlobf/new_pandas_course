{
 "cells": [
  {
   "cell_type": "code",
   "execution_count": 98,
   "source": [
    "data2\n",
    "# Apply , map , vectorised functions\n",
    "\n",
    "\n",
    "import pandas as pd\n",
    "import numpy as np\n",
    "\n",
    "\n",
    "data = np.round(np.random.normal(size=(4, 3)), 2)\n"
   ],
   "outputs": [],
   "metadata": {}
  },
  {
   "cell_type": "code",
   "execution_count": 99,
   "source": [
    "df = pd.DataFrame(data, columns=[\"A\", \"B\", \"C\"])\n",
    "df.head()"
   ],
   "outputs": [
    {
     "output_type": "execute_result",
     "data": {
      "text/html": [
       "<div>\n",
       "<style scoped>\n",
       "    .dataframe tbody tr th:only-of-type {\n",
       "        vertical-align: middle;\n",
       "    }\n",
       "\n",
       "    .dataframe tbody tr th {\n",
       "        vertical-align: top;\n",
       "    }\n",
       "\n",
       "    .dataframe thead th {\n",
       "        text-align: right;\n",
       "    }\n",
       "</style>\n",
       "<table border=\"1\" class=\"dataframe\">\n",
       "  <thead>\n",
       "    <tr style=\"text-align: right;\">\n",
       "      <th></th>\n",
       "      <th>A</th>\n",
       "      <th>B</th>\n",
       "      <th>C</th>\n",
       "    </tr>\n",
       "  </thead>\n",
       "  <tbody>\n",
       "    <tr>\n",
       "      <th>0</th>\n",
       "      <td>0.60</td>\n",
       "      <td>0.78</td>\n",
       "      <td>0.22</td>\n",
       "    </tr>\n",
       "    <tr>\n",
       "      <th>1</th>\n",
       "      <td>-0.63</td>\n",
       "      <td>0.02</td>\n",
       "      <td>1.16</td>\n",
       "    </tr>\n",
       "    <tr>\n",
       "      <th>2</th>\n",
       "      <td>0.12</td>\n",
       "      <td>-0.63</td>\n",
       "      <td>-1.96</td>\n",
       "    </tr>\n",
       "    <tr>\n",
       "      <th>3</th>\n",
       "      <td>0.30</td>\n",
       "      <td>0.56</td>\n",
       "      <td>0.44</td>\n",
       "    </tr>\n",
       "  </tbody>\n",
       "</table>\n",
       "</div>"
      ],
      "text/plain": [
       "      A     B     C\n",
       "0  0.60  0.78  0.22\n",
       "1 -0.63  0.02  1.16\n",
       "2  0.12 -0.63 -1.96\n",
       "3  0.30  0.56  0.44"
      ]
     },
     "metadata": {},
     "execution_count": 99
    }
   ],
   "metadata": {}
  },
  {
   "cell_type": "code",
   "execution_count": 100,
   "source": [
    "df.apply(lambda x: 1 + np.abs(x))"
   ],
   "outputs": [
    {
     "output_type": "execute_result",
     "data": {
      "text/html": [
       "<div>\n",
       "<style scoped>\n",
       "    .dataframe tbody tr th:only-of-type {\n",
       "        vertical-align: middle;\n",
       "    }\n",
       "\n",
       "    .dataframe tbody tr th {\n",
       "        vertical-align: top;\n",
       "    }\n",
       "\n",
       "    .dataframe thead th {\n",
       "        text-align: right;\n",
       "    }\n",
       "</style>\n",
       "<table border=\"1\" class=\"dataframe\">\n",
       "  <thead>\n",
       "    <tr style=\"text-align: right;\">\n",
       "      <th></th>\n",
       "      <th>A</th>\n",
       "      <th>B</th>\n",
       "      <th>C</th>\n",
       "    </tr>\n",
       "  </thead>\n",
       "  <tbody>\n",
       "    <tr>\n",
       "      <th>0</th>\n",
       "      <td>1.60</td>\n",
       "      <td>1.78</td>\n",
       "      <td>1.22</td>\n",
       "    </tr>\n",
       "    <tr>\n",
       "      <th>1</th>\n",
       "      <td>1.63</td>\n",
       "      <td>1.02</td>\n",
       "      <td>2.16</td>\n",
       "    </tr>\n",
       "    <tr>\n",
       "      <th>2</th>\n",
       "      <td>1.12</td>\n",
       "      <td>1.63</td>\n",
       "      <td>2.96</td>\n",
       "    </tr>\n",
       "    <tr>\n",
       "      <th>3</th>\n",
       "      <td>1.30</td>\n",
       "      <td>1.56</td>\n",
       "      <td>1.44</td>\n",
       "    </tr>\n",
       "  </tbody>\n",
       "</table>\n",
       "</div>"
      ],
      "text/plain": [
       "      A     B     C\n",
       "0  1.60  1.78  1.22\n",
       "1  1.63  1.02  2.16\n",
       "2  1.12  1.63  2.96\n",
       "3  1.30  1.56  1.44"
      ]
     },
     "metadata": {},
     "execution_count": 100
    }
   ],
   "metadata": {}
  },
  {
   "cell_type": "code",
   "execution_count": 101,
   "source": [
    "# Map, Similar to apply but operators on Series, and uses dictionary based inputs rather an array of values."
   ],
   "outputs": [],
   "metadata": {}
  },
  {
   "cell_type": "code",
   "execution_count": 102,
   "source": [
    "series = pd.Series([\"Steve\", \"Jess\", \"Mark\"])\n",
    "# Map just runs at series , not Dataframes.\n",
    "series.map({\"Steve\": \"Stephen\"})\n"
   ],
   "outputs": [
    {
     "output_type": "execute_result",
     "data": {
      "text/plain": [
       "0    Stephen\n",
       "1        NaN\n",
       "2        NaN\n",
       "dtype: object"
      ]
     },
     "metadata": {},
     "execution_count": 102
    }
   ],
   "metadata": {}
  },
  {
   "cell_type": "code",
   "execution_count": 103,
   "source": [
    "series.map(lambda d: f'I am {d}')"
   ],
   "outputs": [
    {
     "output_type": "execute_result",
     "data": {
      "text/plain": [
       "0    I am Steve\n",
       "1     I am Jess\n",
       "2     I am Mark\n",
       "dtype: object"
      ]
     },
     "metadata": {},
     "execution_count": 103
    }
   ],
   "metadata": {}
  },
  {
   "cell_type": "code",
   "execution_count": 104,
   "source": [
    "series.str.upper().str.split()"
   ],
   "outputs": [
    {
     "output_type": "execute_result",
     "data": {
      "text/plain": [
       "0    [STEVE]\n",
       "1     [JESS]\n",
       "2     [MARK]\n",
       "dtype: object"
      ]
     },
     "metadata": {},
     "execution_count": 104
    }
   ],
   "metadata": {}
  },
  {
   "cell_type": "code",
   "execution_count": 105,
   "source": [
    "# User defined functions \n",
    "# Sample : How to find a hipotenuse given a X and Y.\n"
   ],
   "outputs": [],
   "metadata": {}
  },
  {
   "cell_type": "code",
   "execution_count": 121,
   "source": [
    "data2 = np.random.normal(10, 2, size=(10000, 2))\n",
    "data2"
   ],
   "outputs": [
    {
     "output_type": "execute_result",
     "data": {
      "text/plain": [
       "array([[10.95041235,  6.85200081],\n",
       "       [ 8.93833535, 11.80463661],\n",
       "       [ 6.52004086, 10.57455348],\n",
       "       ...,\n",
       "       [ 8.0041374 ,  9.5189817 ],\n",
       "       [ 9.24817912,  7.35777814],\n",
       "       [10.47201147,  9.82973846]])"
      ]
     },
     "metadata": {},
     "execution_count": 121
    }
   ],
   "metadata": {}
  },
  {
   "cell_type": "code",
   "execution_count": 117,
   "source": [
    "\n",
    "df2 = pd.DataFrame(data2, columns=[\"x\", \"y\"])\n",
    "df2"
   ],
   "outputs": [
    {
     "output_type": "execute_result",
     "data": {
      "text/html": [
       "<div>\n",
       "<style scoped>\n",
       "    .dataframe tbody tr th:only-of-type {\n",
       "        vertical-align: middle;\n",
       "    }\n",
       "\n",
       "    .dataframe tbody tr th {\n",
       "        vertical-align: top;\n",
       "    }\n",
       "\n",
       "    .dataframe thead th {\n",
       "        text-align: right;\n",
       "    }\n",
       "</style>\n",
       "<table border=\"1\" class=\"dataframe\">\n",
       "  <thead>\n",
       "    <tr style=\"text-align: right;\">\n",
       "      <th></th>\n",
       "      <th>x</th>\n",
       "      <th>y</th>\n",
       "    </tr>\n",
       "  </thead>\n",
       "  <tbody>\n",
       "    <tr>\n",
       "      <th>0</th>\n",
       "      <td>11.859578</td>\n",
       "      <td>9.028280</td>\n",
       "    </tr>\n",
       "    <tr>\n",
       "      <th>1</th>\n",
       "      <td>8.450847</td>\n",
       "      <td>9.934714</td>\n",
       "    </tr>\n",
       "    <tr>\n",
       "      <th>2</th>\n",
       "      <td>5.440003</td>\n",
       "      <td>9.551912</td>\n",
       "    </tr>\n",
       "    <tr>\n",
       "      <th>3</th>\n",
       "      <td>12.183401</td>\n",
       "      <td>6.479096</td>\n",
       "    </tr>\n",
       "    <tr>\n",
       "      <th>4</th>\n",
       "      <td>9.730236</td>\n",
       "      <td>10.649234</td>\n",
       "    </tr>\n",
       "    <tr>\n",
       "      <th>...</th>\n",
       "      <td>...</td>\n",
       "      <td>...</td>\n",
       "    </tr>\n",
       "    <tr>\n",
       "      <th>9995</th>\n",
       "      <td>10.215880</td>\n",
       "      <td>10.829427</td>\n",
       "    </tr>\n",
       "    <tr>\n",
       "      <th>9996</th>\n",
       "      <td>6.923849</td>\n",
       "      <td>6.814505</td>\n",
       "    </tr>\n",
       "    <tr>\n",
       "      <th>9997</th>\n",
       "      <td>9.571261</td>\n",
       "      <td>10.770516</td>\n",
       "    </tr>\n",
       "    <tr>\n",
       "      <th>9998</th>\n",
       "      <td>8.409807</td>\n",
       "      <td>11.513654</td>\n",
       "    </tr>\n",
       "    <tr>\n",
       "      <th>9999</th>\n",
       "      <td>11.456355</td>\n",
       "      <td>12.334365</td>\n",
       "    </tr>\n",
       "  </tbody>\n",
       "</table>\n",
       "<p>10000 rows × 2 columns</p>\n",
       "</div>"
      ],
      "text/plain": [
       "              x          y\n",
       "0     11.859578   9.028280\n",
       "1      8.450847   9.934714\n",
       "2      5.440003   9.551912\n",
       "3     12.183401   6.479096\n",
       "4      9.730236  10.649234\n",
       "...         ...        ...\n",
       "9995  10.215880  10.829427\n",
       "9996   6.923849   6.814505\n",
       "9997   9.571261  10.770516\n",
       "9998   8.409807  11.513654\n",
       "9999  11.456355  12.334365\n",
       "\n",
       "[10000 rows x 2 columns]"
      ]
     },
     "metadata": {},
     "execution_count": 117
    }
   ],
   "metadata": {}
  },
  {
   "cell_type": "code",
   "execution_count": 118,
   "source": [
    "hypot = (df2.x**2 + df2.y**2)**0.5\n",
    "print(hypot[0])\n"
   ],
   "outputs": [
    {
     "output_type": "stream",
     "name": "stdout",
     "text": [
      "14.90501302351295\n"
     ]
    }
   ],
   "metadata": {}
  },
  {
   "cell_type": "code",
   "execution_count": 109,
   "source": [
    "data2"
   ],
   "outputs": [
    {
     "output_type": "execute_result",
     "data": {
      "text/plain": [
       "array([[11.85957765,  9.02827953],\n",
       "       [ 8.45084673,  9.93471401],\n",
       "       [ 5.44000317,  9.55191184],\n",
       "       ...,\n",
       "       [ 9.57126147, 10.77051554],\n",
       "       [ 8.40980702, 11.51365364],\n",
       "       [11.45635535, 12.3343654 ]])"
      ]
     },
     "metadata": {},
     "execution_count": 109
    }
   ],
   "metadata": {}
  },
  {
   "cell_type": "code",
   "execution_count": 110,
   "source": [
    "data2"
   ],
   "outputs": [
    {
     "output_type": "execute_result",
     "data": {
      "text/plain": [
       "array([[11.85957765,  9.02827953],\n",
       "       [ 8.45084673,  9.93471401],\n",
       "       [ 5.44000317,  9.55191184],\n",
       "       ...,\n",
       "       [ 9.57126147, 10.77051554],\n",
       "       [ 8.40980702, 11.51365364],\n",
       "       [11.45635535, 12.3343654 ]])"
      ]
     },
     "metadata": {},
     "execution_count": 110
    }
   ],
   "metadata": {}
  },
  {
   "cell_type": "code",
   "execution_count": 116,
   "source": [
    "def hypot3(xs, ys):\n",
    "    return np.sqrt(xs**2 + ys**2)\n",
    "\n",
    "\n",
    "h3 = hypot3(df2.x, df2.y)\n",
    "print(h3[0])\n",
    "h3"
   ],
   "outputs": [
    {
     "output_type": "stream",
     "name": "stdout",
     "text": [
      "14.90501302351295\n"
     ]
    },
    {
     "output_type": "execute_result",
     "data": {
      "text/plain": [
       "0       14.905013\n",
       "1       13.042828\n",
       "2       10.992391\n",
       "3       13.799056\n",
       "4       14.425105\n",
       "          ...    \n",
       "9995    14.887602\n",
       "9996     9.714791\n",
       "9997    14.408784\n",
       "9998    14.257948\n",
       "9999    16.834032\n",
       "Length: 10000, dtype: float64"
      ]
     },
     "metadata": {},
     "execution_count": 116
    }
   ],
   "metadata": {}
  },
  {
   "cell_type": "code",
   "execution_count": null,
   "source": [],
   "outputs": [],
   "metadata": {}
  },
  {
   "cell_type": "code",
   "execution_count": null,
   "source": [],
   "outputs": [],
   "metadata": {}
  }
 ],
 "metadata": {
  "language_info": {
   "name": "python",
   "version": "3.9.7",
   "mimetype": "text/x-python",
   "codemirror_mode": {
    "name": "ipython",
    "version": 3
   },
   "pygments_lexer": "ipython3",
   "nbconvert_exporter": "python",
   "file_extension": ".py"
  },
  "orig_nbformat": 4,
  "kernelspec": {
   "name": "python3",
   "display_name": "Python 3.9.7 64-bit ('myvenv': venv)"
  },
  "interpreter": {
   "hash": "359f24ba82ccddb98d0800f1a9f025f4e77c7b42e31a846f2199f2f452ba4ed9"
  }
 },
 "nbformat": 4,
 "nbformat_minor": 2
}