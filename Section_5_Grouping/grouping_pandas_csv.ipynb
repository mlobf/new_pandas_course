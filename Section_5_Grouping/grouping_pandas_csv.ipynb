{
 "cells": [
  {
   "cell_type": "code",
   "execution_count": 1,
   "source": [
    "import pandas as pd"
   ],
   "outputs": [],
   "metadata": {}
  },
  {
   "cell_type": "code",
   "execution_count": 2,
   "source": [
    "df = pd.read_csv('PRODUCTS.csv',low_memory=False, sep='|')"
   ],
   "outputs": [],
   "metadata": {}
  },
  {
   "cell_type": "code",
   "execution_count": 3,
   "source": [
    "df.columns"
   ],
   "outputs": [
    {
     "output_type": "execute_result",
     "data": {
      "text/plain": [
       "Index(['SKU', 'BUY_UNIT', 'DESCRIPTION_STATUS', 'ORGANIC_ITEM', 'KIRLAND_ITEM',\n",
       "       'FINELINE_NUMBER', 'EAN', 'ITEM_NAME', 'ITEM_DESCRIPTION', 'ITEM_IMG',\n",
       "       'CATEGORY', 'SUB_CATEGORY', 'SUB_SUB_CATEGORY', 'BRAND_NAME'],\n",
       "      dtype='object')"
      ]
     },
     "metadata": {},
     "execution_count": 3
    }
   ],
   "metadata": {}
  },
  {
   "cell_type": "code",
   "execution_count": 4,
   "source": [
    "df.info()"
   ],
   "outputs": [
    {
     "output_type": "stream",
     "name": "stdout",
     "text": [
      "<class 'pandas.core.frame.DataFrame'>\n",
      "RangeIndex: 321542 entries, 0 to 321541\n",
      "Data columns (total 14 columns):\n",
      " #   Column              Non-Null Count   Dtype \n",
      "---  ------              --------------   ----- \n",
      " 0   SKU                 321542 non-null  int64 \n",
      " 1   BUY_UNIT            214457 non-null  object\n",
      " 2   DESCRIPTION_STATUS  257014 non-null  object\n",
      " 3   ORGANIC_ITEM        214371 non-null  object\n",
      " 4   KIRLAND_ITEM        321542 non-null  bool  \n",
      " 5   FINELINE_NUMBER     321542 non-null  int64 \n",
      " 6   EAN                 321542 non-null  int64 \n",
      " 7   ITEM_NAME           321530 non-null  object\n",
      " 8   ITEM_DESCRIPTION    321542 non-null  object\n",
      " 9   ITEM_IMG            321542 non-null  object\n",
      " 10  CATEGORY            320066 non-null  object\n",
      " 11  SUB_CATEGORY        320066 non-null  object\n",
      " 12  SUB_SUB_CATEGORY    320066 non-null  object\n",
      " 13  BRAND_NAME          321410 non-null  object\n",
      "dtypes: bool(1), int64(3), object(10)\n",
      "memory usage: 32.2+ MB\n"
     ]
    }
   ],
   "metadata": {}
  },
  {
   "cell_type": "code",
   "execution_count": 5,
   "source": [
    "# looking at store by store basis.\n",
    "dfg = df.groupby(\"BUY_UNIT\")\n",
    "dfg"
   ],
   "outputs": [
    {
     "output_type": "execute_result",
     "data": {
      "text/plain": [
       "<pandas.core.groupby.generic.DataFrameGroupBy object at 0x7fe7639316a0>"
      ]
     },
     "metadata": {},
     "execution_count": 5
    }
   ],
   "metadata": {}
  },
  {
   "cell_type": "code",
   "execution_count": 6,
   "source": [
    "dfg.mean()\n"
   ],
   "outputs": [
    {
     "output_type": "execute_result",
     "data": {
      "text/html": [
       "<div>\n",
       "<style scoped>\n",
       "    .dataframe tbody tr th:only-of-type {\n",
       "        vertical-align: middle;\n",
       "    }\n",
       "\n",
       "    .dataframe tbody tr th {\n",
       "        vertical-align: top;\n",
       "    }\n",
       "\n",
       "    .dataframe thead th {\n",
       "        text-align: right;\n",
       "    }\n",
       "</style>\n",
       "<table border=\"1\" class=\"dataframe\">\n",
       "  <thead>\n",
       "    <tr style=\"text-align: right;\">\n",
       "      <th></th>\n",
       "      <th>SKU</th>\n",
       "      <th>KIRLAND_ITEM</th>\n",
       "      <th>FINELINE_NUMBER</th>\n",
       "      <th>EAN</th>\n",
       "    </tr>\n",
       "    <tr>\n",
       "      <th>BUY_UNIT</th>\n",
       "      <th></th>\n",
       "      <th></th>\n",
       "      <th></th>\n",
       "      <th></th>\n",
       "    </tr>\n",
       "  </thead>\n",
       "  <tbody>\n",
       "    <tr>\n",
       "      <th>KG</th>\n",
       "      <td>160644.008556</td>\n",
       "      <td>0.498900</td>\n",
       "      <td>502350.103135</td>\n",
       "      <td>3.951203e+12</td>\n",
       "    </tr>\n",
       "    <tr>\n",
       "      <th>UN</th>\n",
       "      <td>160667.480669</td>\n",
       "      <td>0.498876</td>\n",
       "      <td>498125.929956</td>\n",
       "      <td>3.977127e+12</td>\n",
       "    </tr>\n",
       "  </tbody>\n",
       "</table>\n",
       "</div>"
      ],
      "text/plain": [
       "                    SKU  KIRLAND_ITEM  FINELINE_NUMBER           EAN\n",
       "BUY_UNIT                                                            \n",
       "KG        160644.008556      0.498900    502350.103135  3.951203e+12\n",
       "UN        160667.480669      0.498876    498125.929956  3.977127e+12"
      ]
     },
     "metadata": {},
     "execution_count": 6
    }
   ],
   "metadata": {}
  },
  {
   "cell_type": "code",
   "execution_count": null,
   "source": [],
   "outputs": [],
   "metadata": {}
  },
  {
   "cell_type": "code",
   "execution_count": null,
   "source": [],
   "outputs": [],
   "metadata": {}
  }
 ],
 "metadata": {
  "interpreter": {
   "hash": "359f24ba82ccddb98d0800f1a9f025f4e77c7b42e31a846f2199f2f452ba4ed9"
  },
  "kernelspec": {
   "name": "python3",
   "display_name": "Python 3.9.7 64-bit ('myvenv': venv)"
  },
  "language_info": {
   "codemirror_mode": {
    "name": "ipython",
    "version": 3
   },
   "file_extension": ".py",
   "mimetype": "text/x-python",
   "name": "python",
   "nbconvert_exporter": "python",
   "pygments_lexer": "ipython3",
   "version": "3.9.7"
  }
 },
 "nbformat": 4,
 "nbformat_minor": 5
}