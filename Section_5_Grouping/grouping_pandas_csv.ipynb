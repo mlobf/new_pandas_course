{
 "cells": [
  {
   "cell_type": "code",
   "execution_count": 10,
   "id": "aaf897ca",
   "metadata": {},
   "outputs": [],
   "source": [
    "import pandas as pd"
   ]
  },
  {
   "cell_type": "code",
   "execution_count": 12,
   "id": "572cd456",
   "metadata": {},
   "outputs": [],
   "source": [
    "df = pd.read_csv('PRODUCTS.csv',low_memory=False, sep='|')"
   ]
  },
  {
   "cell_type": "code",
   "execution_count": 17,
   "id": "10d3d2d5",
   "metadata": {},
   "outputs": [
    {
     "data": {
      "text/plain": [
       "Index(['SKU', 'BUY_UNIT', 'DESCRIPTION_STATUS', 'ORGANIC_ITEM', 'KIRLAND_ITEM',\n",
       "       'FINELINE_NUMBER', 'EAN', 'ITEM_NAME', 'ITEM_DESCRIPTION', 'ITEM_IMG',\n",
       "       'CATEGORY', 'SUB_CATEGORY', 'SUB_SUB_CATEGORY', 'BRAND_NAME'],\n",
       "      dtype='object')"
      ]
     },
     "execution_count": 17,
     "metadata": {},
     "output_type": "execute_result"
    }
   ],
   "source": [
    "df.columns"
   ]
  },
  {
   "cell_type": "code",
   "execution_count": 26,
   "id": "fbfb38f1",
   "metadata": {},
   "outputs": [
    {
     "name": "stdout",
     "output_type": "stream",
     "text": [
      "<class 'pandas.core.frame.DataFrame'>\n",
      "RangeIndex: 321542 entries, 0 to 321541\n",
      "Data columns (total 14 columns):\n",
      " #   Column              Non-Null Count   Dtype \n",
      "---  ------              --------------   ----- \n",
      " 0   SKU                 321542 non-null  int64 \n",
      " 1   BUY_UNIT            214457 non-null  object\n",
      " 2   DESCRIPTION_STATUS  257014 non-null  object\n",
      " 3   ORGANIC_ITEM        214371 non-null  object\n",
      " 4   KIRLAND_ITEM        321542 non-null  bool  \n",
      " 5   FINELINE_NUMBER     321542 non-null  int64 \n",
      " 6   EAN                 321542 non-null  int64 \n",
      " 7   ITEM_NAME           321530 non-null  object\n",
      " 8   ITEM_DESCRIPTION    321542 non-null  object\n",
      " 9   ITEM_IMG            321542 non-null  object\n",
      " 10  CATEGORY            320066 non-null  object\n",
      " 11  SUB_CATEGORY        320066 non-null  object\n",
      " 12  SUB_SUB_CATEGORY    320066 non-null  object\n",
      " 13  BRAND_NAME          321410 non-null  object\n",
      "dtypes: bool(1), int64(3), object(10)\n",
      "memory usage: 32.2+ MB\n"
     ]
    }
   ],
   "source": [
    "df.info()"
   ]
  },
  {
   "cell_type": "code",
   "execution_count": 29,
   "id": "db067052",
   "metadata": {},
   "outputs": [
    {
     "data": {
      "text/plain": [
       "<pandas.core.groupby.generic.DataFrameGroupBy object at 0x7f44b8344310>"
      ]
     },
     "execution_count": 29,
     "metadata": {},
     "output_type": "execute_result"
    }
   ],
   "source": [
    "# looking at store by store basis.\n",
    "dfg = df.groupby(\"BUY_UNIT\")\n",
    "dfg"
   ]
  },
  {
   "cell_type": "code",
   "execution_count": 30,
   "id": "18719d1e",
   "metadata": {},
   "outputs": [
    {
     "data": {
      "text/html": [
       "<div>\n",
       "<style scoped>\n",
       "    .dataframe tbody tr th:only-of-type {\n",
       "        vertical-align: middle;\n",
       "    }\n",
       "\n",
       "    .dataframe tbody tr th {\n",
       "        vertical-align: top;\n",
       "    }\n",
       "\n",
       "    .dataframe thead th {\n",
       "        text-align: right;\n",
       "    }\n",
       "</style>\n",
       "<table border=\"1\" class=\"dataframe\">\n",
       "  <thead>\n",
       "    <tr style=\"text-align: right;\">\n",
       "      <th></th>\n",
       "      <th>SKU</th>\n",
       "      <th>KIRLAND_ITEM</th>\n",
       "      <th>FINELINE_NUMBER</th>\n",
       "      <th>EAN</th>\n",
       "    </tr>\n",
       "    <tr>\n",
       "      <th>BUY_UNIT</th>\n",
       "      <th></th>\n",
       "      <th></th>\n",
       "      <th></th>\n",
       "      <th></th>\n",
       "    </tr>\n",
       "  </thead>\n",
       "  <tbody>\n",
       "    <tr>\n",
       "      <th>KG</th>\n",
       "      <td>160644.008556</td>\n",
       "      <td>0.498900</td>\n",
       "      <td>502350.103135</td>\n",
       "      <td>3.951203e+12</td>\n",
       "    </tr>\n",
       "    <tr>\n",
       "      <th>UN</th>\n",
       "      <td>160667.480669</td>\n",
       "      <td>0.498876</td>\n",
       "      <td>498125.929956</td>\n",
       "      <td>3.977127e+12</td>\n",
       "    </tr>\n",
       "  </tbody>\n",
       "</table>\n",
       "</div>"
      ],
      "text/plain": [
       "                    SKU  KIRLAND_ITEM  FINELINE_NUMBER           EAN\n",
       "BUY_UNIT                                                            \n",
       "KG        160644.008556      0.498900    502350.103135  3.951203e+12\n",
       "UN        160667.480669      0.498876    498125.929956  3.977127e+12"
      ]
     },
     "execution_count": 30,
     "metadata": {},
     "output_type": "execute_result"
    }
   ],
   "source": [
    "dfg.mean()\n"
   ]
  },
  {
   "cell_type": "code",
   "execution_count": null,
   "id": "22ac87cc",
   "metadata": {},
   "outputs": [],
   "source": []
  },
  {
   "cell_type": "code",
   "execution_count": null,
   "id": "d296d669",
   "metadata": {},
   "outputs": [],
   "source": []
  }
 ],
 "metadata": {
  "interpreter": {
   "hash": "78dee37650776ab0f363f3e7c84802a8aaa1e5445705a77ad2cced1ba10ed3d4"
  },
  "kernelspec": {
   "display_name": "Python 3 (ipykernel)",
   "language": "python",
   "name": "python3"
  },
  "language_info": {
   "codemirror_mode": {
    "name": "ipython",
    "version": 3
   },
   "file_extension": ".py",
   "mimetype": "text/x-python",
   "name": "python",
   "nbconvert_exporter": "python",
   "pygments_lexer": "ipython3",
   "version": "3.7.12"
  }
 },
 "nbformat": 4,
 "nbformat_minor": 5
}
