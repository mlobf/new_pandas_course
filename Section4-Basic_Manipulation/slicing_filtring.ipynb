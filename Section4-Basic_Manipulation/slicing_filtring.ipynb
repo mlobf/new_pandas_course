{
 "cells": [
  {
   "cell_type": "code",
   "execution_count": 3,
   "metadata": {},
   "outputs": [
    {
     "name": "stdout",
     "output_type": "stream",
     "text": [
      "6\n"
     ]
    }
   ],
   "source": [
    "\n",
    "import pandas as pb\n",
    "import numpy as np\n",
    "\n",
    "df = pb.read_csv('AB_NYC_2019.csv')\n",
    "\n",
    "# print(df)\n",
    "\n",
    "# TESTES NEW\n",
    "# print(df.filter(item=['name']))\n",
    "# print(df.filter(item=['name']))\n",
    "#\n",
    "# print(df.filter(['name', 'id']))\n",
    "\n",
    "# ------------------------------------------------------------\n",
    "\n",
    "# Filter\n",
    "#  df + column name\n",
    "# print(df[\"host_name\"])\n",
    "# print(df[\"host_name\",\"id\"])\n",
    "\n",
    "# print(df.host_name)\n",
    "\n",
    "\n",
    "# filtering on rows, mask filtering\n",
    "# print(df[df.host_name == \"Taz\"])\n",
    "\n",
    "# Will return all showing True or False for each line.\n",
    "# print((df.host_name == 'Taz'))\n",
    "\n",
    "# Show the sum of named Taz.\n",
    "# print((df.host_name == 'Taz').sum())\n",
    "\n",
    "# Filtering cheap and Quick\n",
    "# cheap = (df.price < 100) & (df.minimum_nights < 3)\n",
    "# print(cheap.sum())\n",
    "# print(cheap.head(4))\n",
    "\n",
    "\n",
    "# Filtering row and column together\n",
    "# mask = np.logical_or((df.reviews_per_month > 3), (df.number_of_reviews > 50))\n",
    "# print(df[~mask].head(2))\n",
    "# print(df.loc[mask, [\"name\", 'host_name']])\n",
    "# print(df.loc[:, [\"name\", 'host_name']])\n",
    "# print(df.loc[mask, :])\n",
    "\n",
    "\n",
    "# Filtering based on index\n",
    "# print(df.iloc[0, :])\n",
    "# print(df.iloc[0, 1])\n",
    "# df2 = df.set_index(\"id\")\n",
    "# using standard pyton lists methods\n",
    "# df2 = df2.iloc[1:4, 6:]\n",
    "# print(df2.iloc[0, :])\n",
    "\n",
    "\n",
    "# Provided mask helpers\n",
    "# print(df.loc[df.price.between(100, 300), \"price\"].head(3))\n",
    "# to match only 100 and 200.\n",
    "# print(df.loc[df.price.isin([100, 200]), \"price\"].head(3))\n",
    "\n",
    "\n",
    "# Views vs Copy\n",
    "df2 = df.copy()\n",
    "# df2['name'][0] = \"TESTING\"\n",
    "\n",
    "# print(df2.head(1))\n",
    "\n",
    "# df2 = df2.loc[df2.index == 0, \"name\"] = 'TESTING 2'\n",
    "\n",
    "# print((df2[df2.host_name == \"John\"]))\n",
    "\n",
    "print(\n",
    "    (df.host_name == 'Taz').sum()\n",
    ")\n"
   ]
  },
  {
   "cell_type": "code",
   "execution_count": null,
   "metadata": {},
   "outputs": [],
   "source": []
  }
 ],
 "metadata": {
  "interpreter": {
   "hash": "a59c8bb6a444b5b41ed727aaf9a3cea8a86ec5b00398dffd071d2a31e32b461f"
  },
  "kernelspec": {
   "display_name": "Python 3.7.12 64-bit ('myvenv': venv)",
   "name": "python3"
  },
  "language_info": {
   "codemirror_mode": {
    "name": "ipython",
    "version": 3
   },
   "file_extension": ".py",
   "mimetype": "text/x-python",
   "name": "python",
   "nbconvert_exporter": "python",
   "pygments_lexer": "ipython3",
   "version": "3.7.12"
  },
  "orig_nbformat": 4
 },
 "nbformat": 4,
 "nbformat_minor": 2
}
