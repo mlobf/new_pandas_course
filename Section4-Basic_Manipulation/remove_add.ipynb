{
 "cells": [
  {
   "cell_type": "code",
   "execution_count": 1,
   "metadata": {},
   "outputs": [
    {
     "name": "stdout",
     "output_type": "stream",
     "text": [
      "0      1967\n",
      "1      1936\n",
      "2      1946\n",
      "3      1951\n",
      "4      1930\n",
      "       ... \n",
      "352    1956\n",
      "353    1962\n",
      "354    1932\n",
      "355    1930\n",
      "356    1962\n",
      "Name: Birth Date, Length: 357, dtype: int64\n"
     ]
    }
   ],
   "source": [
    "\n",
    "import pandas as pd\n",
    "import numpy as np\n",
    "\n",
    "df = pd.read_csv('astronauts.csv')\n",
    "# Operational with datas.\n",
    "\n",
    "# Removing\n",
    "# Transmuting\n",
    "# Add\n",
    "\n",
    "\n",
    "# Modify data type of Columns\n",
    "# Using the datatime with pandas\n",
    "birthdate = pd.to_datetime(df['Birth Date'], format='%m/%d/%Y')\n",
    "\n",
    "print(birthdate.dt.year)\n"
   ]
  },
  {
   "cell_type": "code",
   "execution_count": null,
   "metadata": {},
   "outputs": [],
   "source": []
  }
 ],
 "metadata": {
  "interpreter": {
   "hash": "a59c8bb6a444b5b41ed727aaf9a3cea8a86ec5b00398dffd071d2a31e32b461f"
  },
  "kernelspec": {
   "display_name": "Python 3.7.12 64-bit ('myvenv': venv)",
   "name": "python3"
  },
  "language_info": {
   "codemirror_mode": {
    "name": "ipython",
    "version": 3
   },
   "file_extension": ".py",
   "mimetype": "text/x-python",
   "name": "python",
   "nbconvert_exporter": "python",
   "pygments_lexer": "ipython3",
   "version": "3.7.12"
  },
  "orig_nbformat": 4
 },
 "nbformat": 4,
 "nbformat_minor": 2
}
