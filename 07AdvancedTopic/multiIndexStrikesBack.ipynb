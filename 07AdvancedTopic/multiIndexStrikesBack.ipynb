{
 "cells": [
  {
   "cell_type": "code",
   "execution_count": 1,
   "metadata": {},
   "outputs": [],
   "source": [
    "import pandas as pd\n",
    "import numpy as np\n",
    "\n"
   ]
  },
  {
   "cell_type": "code",
   "execution_count": 2,
   "metadata": {},
   "outputs": [
    {
     "data": {
      "text/html": [
       "<div>\n",
       "<style scoped>\n",
       "    .dataframe tbody tr th:only-of-type {\n",
       "        vertical-align: middle;\n",
       "    }\n",
       "\n",
       "    .dataframe tbody tr th {\n",
       "        vertical-align: top;\n",
       "    }\n",
       "\n",
       "    .dataframe thead th {\n",
       "        text-align: right;\n",
       "    }\n",
       "</style>\n",
       "<table border=\"1\" class=\"dataframe\">\n",
       "  <thead>\n",
       "    <tr style=\"text-align: right;\">\n",
       "      <th></th>\n",
       "      <th></th>\n",
       "      <th>YEAR</th>\n",
       "      <th>MONTH</th>\n",
       "      <th>DAY</th>\n",
       "      <th>DAY_OF_WEEK</th>\n",
       "      <th>FLIGHT_NUMBER</th>\n",
       "      <th>TAIL_NUMBER</th>\n",
       "      <th>ORIGIN_AIRPORT</th>\n",
       "      <th>SCHEDULED_DEPARTURE</th>\n",
       "      <th>DEPARTURE_TIME</th>\n",
       "      <th>DEPARTURE_DELAY</th>\n",
       "      <th>...</th>\n",
       "      <th>ARRIVAL_TIME</th>\n",
       "      <th>ARRIVAL_DELAY</th>\n",
       "      <th>DIVERTED</th>\n",
       "      <th>CANCELLED</th>\n",
       "      <th>CANCELLATION_REASON</th>\n",
       "      <th>AIR_SYSTEM_DELAY</th>\n",
       "      <th>SECURITY_DELAY</th>\n",
       "      <th>AIRLINE_DELAY</th>\n",
       "      <th>LATE_AIRCRAFT_DELAY</th>\n",
       "      <th>WEATHER_DELAY</th>\n",
       "    </tr>\n",
       "    <tr>\n",
       "      <th>DESTINATION_AIRPORT</th>\n",
       "      <th>AIRLINE</th>\n",
       "      <th></th>\n",
       "      <th></th>\n",
       "      <th></th>\n",
       "      <th></th>\n",
       "      <th></th>\n",
       "      <th></th>\n",
       "      <th></th>\n",
       "      <th></th>\n",
       "      <th></th>\n",
       "      <th></th>\n",
       "      <th></th>\n",
       "      <th></th>\n",
       "      <th></th>\n",
       "      <th></th>\n",
       "      <th></th>\n",
       "      <th></th>\n",
       "      <th></th>\n",
       "      <th></th>\n",
       "      <th></th>\n",
       "      <th></th>\n",
       "      <th></th>\n",
       "    </tr>\n",
       "  </thead>\n",
       "  <tbody>\n",
       "    <tr>\n",
       "      <th rowspan=\"5\" valign=\"top\">10135</th>\n",
       "      <th>DL</th>\n",
       "      <td>2015</td>\n",
       "      <td>10</td>\n",
       "      <td>1</td>\n",
       "      <td>4</td>\n",
       "      <td>2582</td>\n",
       "      <td>N993AT</td>\n",
       "      <td>10397</td>\n",
       "      <td>2106</td>\n",
       "      <td>2103.0</td>\n",
       "      <td>-3.0</td>\n",
       "      <td>...</td>\n",
       "      <td>2257.0</td>\n",
       "      <td>-14.0</td>\n",
       "      <td>0</td>\n",
       "      <td>0</td>\n",
       "      <td>NaN</td>\n",
       "      <td>NaN</td>\n",
       "      <td>NaN</td>\n",
       "      <td>NaN</td>\n",
       "      <td>NaN</td>\n",
       "      <td>NaN</td>\n",
       "    </tr>\n",
       "    <tr>\n",
       "      <th>DL</th>\n",
       "      <td>2015</td>\n",
       "      <td>10</td>\n",
       "      <td>2</td>\n",
       "      <td>5</td>\n",
       "      <td>2582</td>\n",
       "      <td>N954AT</td>\n",
       "      <td>10397</td>\n",
       "      <td>2106</td>\n",
       "      <td>2104.0</td>\n",
       "      <td>-2.0</td>\n",
       "      <td>...</td>\n",
       "      <td>2257.0</td>\n",
       "      <td>-14.0</td>\n",
       "      <td>0</td>\n",
       "      <td>0</td>\n",
       "      <td>NaN</td>\n",
       "      <td>NaN</td>\n",
       "      <td>NaN</td>\n",
       "      <td>NaN</td>\n",
       "      <td>NaN</td>\n",
       "      <td>NaN</td>\n",
       "    </tr>\n",
       "    <tr>\n",
       "      <th>DL</th>\n",
       "      <td>2015</td>\n",
       "      <td>10</td>\n",
       "      <td>3</td>\n",
       "      <td>6</td>\n",
       "      <td>2582</td>\n",
       "      <td>N955AT</td>\n",
       "      <td>10397</td>\n",
       "      <td>2106</td>\n",
       "      <td>2104.0</td>\n",
       "      <td>-2.0</td>\n",
       "      <td>...</td>\n",
       "      <td>2253.0</td>\n",
       "      <td>-16.0</td>\n",
       "      <td>0</td>\n",
       "      <td>0</td>\n",
       "      <td>NaN</td>\n",
       "      <td>NaN</td>\n",
       "      <td>NaN</td>\n",
       "      <td>NaN</td>\n",
       "      <td>NaN</td>\n",
       "      <td>NaN</td>\n",
       "    </tr>\n",
       "    <tr>\n",
       "      <th>DL</th>\n",
       "      <td>2015</td>\n",
       "      <td>10</td>\n",
       "      <td>4</td>\n",
       "      <td>7</td>\n",
       "      <td>2582</td>\n",
       "      <td>N980AT</td>\n",
       "      <td>10397</td>\n",
       "      <td>2106</td>\n",
       "      <td>2059.0</td>\n",
       "      <td>-7.0</td>\n",
       "      <td>...</td>\n",
       "      <td>2258.0</td>\n",
       "      <td>-13.0</td>\n",
       "      <td>0</td>\n",
       "      <td>0</td>\n",
       "      <td>NaN</td>\n",
       "      <td>NaN</td>\n",
       "      <td>NaN</td>\n",
       "      <td>NaN</td>\n",
       "      <td>NaN</td>\n",
       "      <td>NaN</td>\n",
       "    </tr>\n",
       "    <tr>\n",
       "      <th>DL</th>\n",
       "      <td>2015</td>\n",
       "      <td>10</td>\n",
       "      <td>5</td>\n",
       "      <td>1</td>\n",
       "      <td>2582</td>\n",
       "      <td>N993AT</td>\n",
       "      <td>10397</td>\n",
       "      <td>2106</td>\n",
       "      <td>2107.0</td>\n",
       "      <td>1.0</td>\n",
       "      <td>...</td>\n",
       "      <td>2312.0</td>\n",
       "      <td>1.0</td>\n",
       "      <td>0</td>\n",
       "      <td>0</td>\n",
       "      <td>NaN</td>\n",
       "      <td>NaN</td>\n",
       "      <td>NaN</td>\n",
       "      <td>NaN</td>\n",
       "      <td>NaN</td>\n",
       "      <td>NaN</td>\n",
       "    </tr>\n",
       "  </tbody>\n",
       "</table>\n",
       "<p>5 rows × 29 columns</p>\n",
       "</div>"
      ],
      "text/plain": [
       "                             YEAR  MONTH  DAY  DAY_OF_WEEK  FLIGHT_NUMBER  \\\n",
       "DESTINATION_AIRPORT AIRLINE                                                 \n",
       "10135               DL       2015     10    1            4           2582   \n",
       "                    DL       2015     10    2            5           2582   \n",
       "                    DL       2015     10    3            6           2582   \n",
       "                    DL       2015     10    4            7           2582   \n",
       "                    DL       2015     10    5            1           2582   \n",
       "\n",
       "                            TAIL_NUMBER ORIGIN_AIRPORT  SCHEDULED_DEPARTURE  \\\n",
       "DESTINATION_AIRPORT AIRLINE                                                   \n",
       "10135               DL           N993AT          10397                 2106   \n",
       "                    DL           N954AT          10397                 2106   \n",
       "                    DL           N955AT          10397                 2106   \n",
       "                    DL           N980AT          10397                 2106   \n",
       "                    DL           N993AT          10397                 2106   \n",
       "\n",
       "                             DEPARTURE_TIME  DEPARTURE_DELAY  ...  \\\n",
       "DESTINATION_AIRPORT AIRLINE                                   ...   \n",
       "10135               DL               2103.0             -3.0  ...   \n",
       "                    DL               2104.0             -2.0  ...   \n",
       "                    DL               2104.0             -2.0  ...   \n",
       "                    DL               2059.0             -7.0  ...   \n",
       "                    DL               2107.0              1.0  ...   \n",
       "\n",
       "                             ARRIVAL_TIME  ARRIVAL_DELAY  DIVERTED  CANCELLED  \\\n",
       "DESTINATION_AIRPORT AIRLINE                                                     \n",
       "10135               DL             2257.0          -14.0         0          0   \n",
       "                    DL             2257.0          -14.0         0          0   \n",
       "                    DL             2253.0          -16.0         0          0   \n",
       "                    DL             2258.0          -13.0         0          0   \n",
       "                    DL             2312.0            1.0         0          0   \n",
       "\n",
       "                             CANCELLATION_REASON  AIR_SYSTEM_DELAY  \\\n",
       "DESTINATION_AIRPORT AIRLINE                                          \n",
       "10135               DL                       NaN               NaN   \n",
       "                    DL                       NaN               NaN   \n",
       "                    DL                       NaN               NaN   \n",
       "                    DL                       NaN               NaN   \n",
       "                    DL                       NaN               NaN   \n",
       "\n",
       "                             SECURITY_DELAY  AIRLINE_DELAY  \\\n",
       "DESTINATION_AIRPORT AIRLINE                                  \n",
       "10135               DL                  NaN            NaN   \n",
       "                    DL                  NaN            NaN   \n",
       "                    DL                  NaN            NaN   \n",
       "                    DL                  NaN            NaN   \n",
       "                    DL                  NaN            NaN   \n",
       "\n",
       "                             LATE_AIRCRAFT_DELAY  WEATHER_DELAY  \n",
       "DESTINATION_AIRPORT AIRLINE                                      \n",
       "10135               DL                       NaN            NaN  \n",
       "                    DL                       NaN            NaN  \n",
       "                    DL                       NaN            NaN  \n",
       "                    DL                       NaN            NaN  \n",
       "                    DL                       NaN            NaN  \n",
       "\n",
       "[5 rows x 29 columns]"
      ]
     },
     "execution_count": 2,
     "metadata": {},
     "output_type": "execute_result"
    }
   ],
   "source": [
    "dfo = pd.read_csv(\"flights.csv\", low_memory=False)\n",
    "df = dfo.set_index([\"DESTINATION_AIRPORT\", \"AIRLINE\"])\n",
    "df = df.sort_index()\n",
    "df.head()"
   ]
  },
  {
   "cell_type": "code",
   "execution_count": 3,
   "metadata": {},
   "outputs": [
    {
     "data": {
      "text/plain": [
       "MultiIndex([('10135', 'DL'),\n",
       "            ('10135', 'DL'),\n",
       "            ('10135', 'DL'),\n",
       "            ('10135', 'DL'),\n",
       "            ('10135', 'DL'),\n",
       "            ('10135', 'DL'),\n",
       "            ('10135', 'DL'),\n",
       "            ('10135', 'DL'),\n",
       "            ('10135', 'DL'),\n",
       "            ('10135', 'DL'),\n",
       "            ...\n",
       "            (  'YUM', 'OO'),\n",
       "            (  'YUM', 'OO'),\n",
       "            (  'YUM', 'OO'),\n",
       "            (  'YUM', 'OO'),\n",
       "            (  'YUM', 'OO'),\n",
       "            (  'YUM', 'OO'),\n",
       "            (  'YUM', 'OO'),\n",
       "            (  'YUM', 'OO'),\n",
       "            (  'YUM', 'OO'),\n",
       "            (  'YUM', 'OO')],\n",
       "           names=['DESTINATION_AIRPORT', 'AIRLINE'], length=5819079)"
      ]
     },
     "execution_count": 3,
     "metadata": {},
     "output_type": "execute_result"
    }
   ],
   "source": [
    "df.index"
   ]
  },
  {
   "cell_type": "code",
   "execution_count": 4,
   "metadata": {},
   "outputs": [],
   "source": [
    "# From numpy arrays\n",
    "airlines = dfo.AIRLINE.to_numpy()\n",
    "dests = dfo.DESTINATION_AIRPORT.to_numpy()"
   ]
  },
  {
   "cell_type": "code",
   "execution_count": 5,
   "metadata": {},
   "outputs": [
    {
     "data": {
      "text/plain": [
       "array(['AS', 'AA', 'US', ..., 'B6', 'B6', 'B6'], dtype=object)"
      ]
     },
     "metadata": {},
     "output_type": "display_data"
    },
    {
     "data": {
      "text/plain": [
       "array(['SEA', 'PBI', 'CLT', ..., 'SJU', 'SJU', 'BQN'], dtype=object)"
      ]
     },
     "metadata": {},
     "output_type": "display_data"
    }
   ],
   "source": [
    "display(airlines,dests)"
   ]
  },
  {
   "cell_type": "code",
   "execution_count": 6,
   "metadata": {},
   "outputs": [
    {
     "data": {
      "text/plain": [
       "MultiIndex([('AS', 'SEA'),\n",
       "            ('AA', 'PBI'),\n",
       "            ('US', 'CLT'),\n",
       "            ('AA', 'MIA'),\n",
       "            ('AS', 'ANC'),\n",
       "            ('DL', 'MSP'),\n",
       "            ('NK', 'MSP'),\n",
       "            ('US', 'CLT'),\n",
       "            ('AA', 'DFW'),\n",
       "            ('DL', 'ATL'),\n",
       "            ...\n",
       "            ('B6', 'JFK'),\n",
       "            ('B6', 'JFK'),\n",
       "            ('B6', 'MCO'),\n",
       "            ('B6', 'JFK'),\n",
       "            ('B6', 'JFK'),\n",
       "            ('B6', 'BOS'),\n",
       "            ('B6', 'PSE'),\n",
       "            ('B6', 'SJU'),\n",
       "            ('B6', 'SJU'),\n",
       "            ('B6', 'BQN')],\n",
       "           length=5819079)"
      ]
     },
     "execution_count": 6,
     "metadata": {},
     "output_type": "execute_result"
    }
   ],
   "source": [
    "pd.MultiIndex.from_arrays([airlines, dests])\n"
   ]
  },
  {
   "cell_type": "code",
   "execution_count": 7,
   "metadata": {},
   "outputs": [],
   "source": [
    "# From a list of tuples.\n",
    "tups = [tuple(x) for x in dfo[[\"DESTINATION_AIRPORT\", \"AIRLINE\"]][:10].to_numpy()]\n"
   ]
  },
  {
   "cell_type": "code",
   "execution_count": 8,
   "metadata": {},
   "outputs": [
    {
     "data": {
      "text/plain": [
       "[('SEA', 'AS'),\n",
       " ('PBI', 'AA'),\n",
       " ('CLT', 'US'),\n",
       " ('MIA', 'AA'),\n",
       " ('ANC', 'AS'),\n",
       " ('MSP', 'DL'),\n",
       " ('MSP', 'NK'),\n",
       " ('CLT', 'US'),\n",
       " ('DFW', 'AA'),\n",
       " ('ATL', 'DL')]"
      ]
     },
     "execution_count": 8,
     "metadata": {},
     "output_type": "execute_result"
    }
   ],
   "source": [
    "tups"
   ]
  },
  {
   "cell_type": "code",
   "execution_count": 9,
   "metadata": {},
   "outputs": [
    {
     "data": {
      "text/plain": [
       "MultiIndex([('SEA', 'AS'),\n",
       "            ('PBI', 'AA'),\n",
       "            ('CLT', 'US'),\n",
       "            ('MIA', 'AA'),\n",
       "            ('ANC', 'AS'),\n",
       "            ('MSP', 'DL'),\n",
       "            ('MSP', 'NK'),\n",
       "            ('CLT', 'US'),\n",
       "            ('DFW', 'AA'),\n",
       "            ('ATL', 'DL')],\n",
       "           )"
      ]
     },
     "execution_count": 9,
     "metadata": {},
     "output_type": "execute_result"
    }
   ],
   "source": [
    "pd.MultiIndex.from_tuples(tups)\n"
   ]
  },
  {
   "cell_type": "code",
   "execution_count": 12,
   "metadata": {},
   "outputs": [
    {
     "data": {
      "text/plain": [
       "MultiIndex([(1, 2000, 'Sem 1'),\n",
       "            (1, 2000, 'Sem 2'),\n",
       "            (1, 2001, 'Sem 1'),\n",
       "            (1, 2001, 'Sem 2'),\n",
       "            (2, 2000, 'Sem 1'),\n",
       "            (2, 2000, 'Sem 2'),\n",
       "            (2, 2001, 'Sem 1'),\n",
       "            (2, 2001, 'Sem 2'),\n",
       "            (3, 2000, 'Sem 1'),\n",
       "            (3, 2000, 'Sem 2'),\n",
       "            (3, 2001, 'Sem 1'),\n",
       "            (3, 2001, 'Sem 2')],\n",
       "           )"
      ]
     },
     "execution_count": 12,
     "metadata": {},
     "output_type": "execute_result"
    }
   ],
   "source": [
    "# If you have a cross product\n",
    "#   Just like the one from the merging example. Students,years semesters.\n",
    "pd.MultiIndex.from_product([[1, 2, 3], [2000, 2001], [\"Sem 1\", \"Sem 2\"]])\n"
   ]
  },
  {
   "cell_type": "code",
   "execution_count": 13,
   "metadata": {},
   "outputs": [
    {
     "data": {
      "text/plain": [
       "MultiIndex([(1, 2000, 'Sem 1'),\n",
       "            (1, 2000, 'Sem 2'),\n",
       "            (1, 2001, 'Sem 1'),\n",
       "            (1, 2001, 'Sem 2'),\n",
       "            (2, 2000, 'Sem 1'),\n",
       "            (2, 2000, 'Sem 2'),\n",
       "            (2, 2001, 'Sem 1'),\n",
       "            (2, 2001, 'Sem 2'),\n",
       "            (3, 2000, 'Sem 1'),\n",
       "            (3, 2000, 'Sem 2'),\n",
       "            (3, 2001, 'Sem 1'),\n",
       "            (3, 2001, 'Sem 2')],\n",
       "           names=['Student', 'Year', 'Sem'])"
      ]
     },
     "execution_count": 13,
     "metadata": {},
     "output_type": "execute_result"
    }
   ],
   "source": [
    "# Naming your index\n",
    "index = pd.MultiIndex.from_product([[1, 2, 3], [2000, 2001], [\"Sem 1\", \"Sem 2\"]])\n",
    "index.names=[\"Student\",\"Year\",\"Sem\"]\n",
    "index\n",
    "\n"
   ]
  },
  {
   "cell_type": "code",
   "execution_count": null,
   "metadata": {},
   "outputs": [],
   "source": [
    "# MultIndex or colums\n"
   ]
  }
 ],
 "metadata": {
  "interpreter": {
   "hash": "78dee37650776ab0f363f3e7c84802a8aaa1e5445705a77ad2cced1ba10ed3d4"
  },
  "kernelspec": {
   "display_name": "Python 3.7.12 64-bit ('myvenv': venv)",
   "name": "python3"
  },
  "language_info": {
   "codemirror_mode": {
    "name": "ipython",
    "version": 3
   },
   "file_extension": ".py",
   "mimetype": "text/x-python",
   "name": "python",
   "nbconvert_exporter": "python",
   "pygments_lexer": "ipython3",
   "version": "3.7.12"
  },
  "orig_nbformat": 4
 },
 "nbformat": 4,
 "nbformat_minor": 2
}
