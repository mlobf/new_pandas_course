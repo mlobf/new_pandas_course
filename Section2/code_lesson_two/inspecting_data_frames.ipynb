{
 "cells": [
  {
   "cell_type": "code",
   "execution_count": 1,
   "metadata": {},
   "outputs": [
    {
     "name": "stdout",
     "output_type": "stream",
     "text": [
      "Name                 Yvonne D. Cagle\n",
      "Year                          2009.0\n",
      "Group                           20.0\n",
      "Status                       Retired\n",
      "Birth Date                  9/9/1952\n",
      "Birth Place              Yonkers, NY\n",
      "Gender                          Male\n",
      "Space Flights                      7\n",
      "Space Flight (hr)              12818\n",
      "Space Walks                       10\n",
      "Space Walks (hr)                67.0\n",
      "dtype: object\n"
     ]
    },
    {
     "name": "stderr",
     "output_type": "stream",
     "text": [
      "/home/mlobf/Documents/my_git/new_pandas_course/myvenv/lib/python3.7/site-packages/ipykernel_launcher.py:34: FutureWarning: Dropping of nuisance columns in DataFrame reductions (with 'numeric_only=None') is deprecated; in a future version this will raise TypeError.  Select only valid columns before calling the reduction.\n"
     ]
    }
   ],
   "source": [
    "\n",
    "import pandas as pd\n",
    "import numpy as np\n",
    "\n",
    "df = pd.read_csv(\"astronauts.csv\")\n",
    "\n",
    "# First two row´s\n",
    "# print(df.head(2))\n",
    "\n",
    "# Last two row's\n",
    "# print(df.tail(2))\n",
    "\n",
    "# X numbers of rand rows. With a chance to see the same row twice.\n",
    "# print(df.sample(5, replace=True))\n",
    "\n",
    "\n",
    "# Get dataframe info\n",
    "# print(df.info())\n",
    "\n",
    "# Descritive Statictic Info\n",
    "# print(df.describe())\n",
    "\n",
    "# Show basic info.\n",
    "# In this case 316 rows and 19 columns\n",
    "# print(df.shape)\n",
    "\n",
    "# Show the correlation between  colunms\n",
    "# Seens to be a linear correlation.\n",
    "# print(df.corr())\n",
    "\n",
    "# Show's all counts of a column.\n",
    "# print(df[\"Year\"].value_counts())\n",
    "\n",
    "# To get the Max value of all columns.\n",
    "print(df.max())\n"
   ]
  },
  {
   "cell_type": "code",
   "execution_count": null,
   "metadata": {},
   "outputs": [],
   "source": []
  }
 ],
 "metadata": {
  "interpreter": {
   "hash": "a59c8bb6a444b5b41ed727aaf9a3cea8a86ec5b00398dffd071d2a31e32b461f"
  },
  "kernelspec": {
   "display_name": "Python 3.7.12 64-bit ('myvenv': venv)",
   "name": "python3"
  },
  "language_info": {
   "codemirror_mode": {
    "name": "ipython",
    "version": 3
   },
   "file_extension": ".py",
   "mimetype": "text/x-python",
   "name": "python",
   "nbconvert_exporter": "python",
   "pygments_lexer": "ipython3",
   "version": "3.7.12"
  },
  "orig_nbformat": 4
 },
 "nbformat": 4,
 "nbformat_minor": 2
}
