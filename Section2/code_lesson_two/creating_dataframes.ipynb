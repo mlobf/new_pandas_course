{
 "cells": [
  {
   "cell_type": "code",
   "execution_count": 1,
   "metadata": {},
   "outputs": [
    {
     "name": "stdout",
     "output_type": "stream",
     "text": [
      "Index    128\n",
      "A         24\n",
      "B         24\n",
      "dtype: int64\n"
     ]
    }
   ],
   "source": [
    "import pandas as pd\n",
    "import numpy as np\n",
    "\n",
    "\"\"\"\n",
    "    How to create a new dataframe using Pandas\n",
    "\n",
    "\n",
    "\"\"\"\n",
    "filename_two = \"heart.csv\"\n",
    "\n",
    "df = pd.read_csv(filename_two)\n",
    "\n",
    "# Using pandas.\n",
    "df = pd.DataFrame(data={\"A\": [1, 2, 3], \"B\": [\"Sam\", \"Alex\", \"John\"]})\n",
    "\n",
    "print(df.memory_usage())\n"
   ]
  },
  {
   "cell_type": "code",
   "execution_count": null,
   "metadata": {},
   "outputs": [],
   "source": []
  }
 ],
 "metadata": {
  "interpreter": {
   "hash": "a59c8bb6a444b5b41ed727aaf9a3cea8a86ec5b00398dffd071d2a31e32b461f"
  },
  "kernelspec": {
   "display_name": "Python 3.7.12 64-bit ('myvenv': venv)",
   "name": "python3"
  },
  "language_info": {
   "codemirror_mode": {
    "name": "ipython",
    "version": 3
   },
   "file_extension": ".py",
   "mimetype": "text/x-python",
   "name": "python",
   "nbconvert_exporter": "python",
   "pygments_lexer": "ipython3",
   "version": "3.7.12"
  },
  "orig_nbformat": 4
 },
 "nbformat": 4,
 "nbformat_minor": 2
}
