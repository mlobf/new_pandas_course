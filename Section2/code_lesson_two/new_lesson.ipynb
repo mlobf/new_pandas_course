{
 "cells": [
  {
   "cell_type": "code",
   "execution_count": 1,
   "metadata": {},
   "outputs": [
    {
     "name": "stdout",
     "output_type": "stream",
     "text": [
      "4242\n"
     ]
    }
   ],
   "source": [
    "from numpy import pi\n",
    "import pandas as pd\n",
    "import numbers as np\n",
    "import pickle\n",
    "\n",
    "filename = \"example_1.csv\"\n",
    "filename_one = \"astronauts.csv\"\n",
    "filename_two = \"heart.csv\"\n",
    "\n",
    "df = pd.read_csv(filename_two)\n",
    "\n",
    "# Apresenta a media das colunas \"age\" e \"sex\"\n",
    "# print(df[\"age\"].mean(), df[\"sex\"].mean())\n",
    "\n",
    "# Printa na tela as colunas 'age' e 'sex' da tabela heart.csv\n",
    "#print(df[\"age\"], df[\"sex\"])\n",
    "\n",
    "# print(df.info())\n",
    "print(\n",
    "    df.count().sum()\n",
    ")\n"
   ]
  },
  {
   "cell_type": "code",
   "execution_count": null,
   "metadata": {},
   "outputs": [],
   "source": []
  }
 ],
 "metadata": {
  "interpreter": {
   "hash": "a59c8bb6a444b5b41ed727aaf9a3cea8a86ec5b00398dffd071d2a31e32b461f"
  },
  "kernelspec": {
   "display_name": "Python 3.7.12 64-bit ('myvenv': venv)",
   "name": "python3"
  },
  "language_info": {
   "codemirror_mode": {
    "name": "ipython",
    "version": 3
   },
   "file_extension": ".py",
   "mimetype": "text/x-python",
   "name": "python",
   "nbconvert_exporter": "python",
   "pygments_lexer": "ipython3",
   "version": "3.7.12"
  },
  "orig_nbformat": 4
 },
 "nbformat": 4,
 "nbformat_minor": 2
}
